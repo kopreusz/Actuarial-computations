{
  "nbformat": 4,
  "nbformat_minor": 0,
  "metadata": {
    "colab": {
      "provenance": [],
      "authorship_tag": "ABX9TyNU5A8MHPBlJKeylTvoGJPr",
      "include_colab_link": true
    },
    "kernelspec": {
      "name": "python3",
      "display_name": "Python 3"
    },
    "language_info": {
      "name": "python"
    }
  },
  "cells": [
    {
      "cell_type": "markdown",
      "metadata": {
        "id": "view-in-github",
        "colab_type": "text"
      },
      "source": [
        "<a href=\"https://colab.research.google.com/github/kopreusz/Actuarial-computations/blob/main/Encoder_Decoder_AI.ipynb\" target=\"_parent\"><img src=\"https://colab.research.google.com/assets/colab-badge.svg\" alt=\"Open In Colab\"/></a>"
      ]
    },
    {
      "cell_type": "markdown",
      "source": [
        "***TODOS***\n",
        "\n",
        "\n",
        "1.   Dropout: Done for now, we still have to apply it in the case of embeddings,and positional encodings. We also have not checked it in the decoder yet.\n",
        "2.   Batches: We may have to get familiar with the DataLoader first.\n",
        "3.  Double check the linear transformations we use in the cross attention. We need one extra, for the encoders output, and also one for the output of tha masked attention.\n",
        "\n",
        "\n"
      ],
      "metadata": {
        "id": "aGTb4fZx6Oyd"
      }
    },
    {
      "cell_type": "code",
      "execution_count": 1,
      "metadata": {
        "id": "xYfhEd0rkbGP"
      },
      "outputs": [],
      "source": [
        "import torch\n",
        "import torch.nn as nn\n",
        "import math"
      ]
    },
    {
      "cell_type": "code",
      "source": [
        "class EncodersSelfAttention(nn.Module):\n",
        "  def __init__(self, d_model,number_of_heads, number_of_tokens):\n",
        "    super(EncodersSelfAttention,self).__init__()\n",
        "\n",
        "    self.d_model = d_model\n",
        "    self.number_of_heads = number_of_heads\n",
        "    self.number_of_tokens = number_of_tokens\n",
        "\n",
        "\n",
        "    self.get_QKV = nn.Linear(self.d_model,self.d_model,bias = False)\n",
        "    self.get_multihead = nn.Linear(self.d_model,self.d_model//self.number_of_heads,bias = False)\n",
        "    self.norm = nn.Softmax(dim=0)\n",
        "    self.Dropout = nn.Dropout(0.1)                                                                              # We could define aparameter for the rate of dropout, for now I use the constant mentioned in the article.\n",
        "\n",
        "  def forward (self,x):\n",
        "    Q = self.get_QKV(x)                                                                                         # They have to be exactly the same linear transformations in one attention head\n",
        "    K = self.get_QKV(x)\n",
        "    V = self.get_QKV(x)\n",
        "\n",
        "    QW = torch.zeros(self.number_of_heads,self.number_of_tokens,self.d_model//self.number_of_heads)             #integer division, 3D tensor.\n",
        "    KW = torch.zeros(self.number_of_heads,self.number_of_tokens,self.d_model//self.number_of_heads)\n",
        "    VW = torch.zeros(self.number_of_heads,self.number_of_tokens,self.d_model//self.number_of_heads)\n",
        "\n",
        "    for i in range(self.number_of_heads):\n",
        "        QW[i,:] = self.get_multihead(Q)                                                                         # Applyin number of heads transformations and aligning the results by the first coordinate.\n",
        "        KW[i,:] = self.get_multihead(K)\n",
        "        VW[i,:] = self.get_multihead(V)\n",
        "\n",
        "    attention = torch.zeros(self.number_of_heads,self.number_of_tokens,self.d_model//self.number_of_heads)      #initializing an attention matrix\n",
        "\n",
        "    for i in range(self.number_of_heads):\n",
        "        attention[i] = torch.einsum('ik,kj->ij',torch.einsum('ik,jk->ij',QW[i],KW[i]),KW[i])                    # This is the formula for the attention score\n",
        "\n",
        "    concat_output = attention[0]\n",
        "\n",
        "    for i in range(1,self.number_of_heads):\n",
        "      concat_output = torch.cat((concat_output,attention[i]),1)\n",
        "\n",
        "\n",
        "    return self.norm(x + self.Dropout(concat_output))                                                           # We apply residual connections here, I hope it won't mess up our gradient calculation."
      ],
      "metadata": {
        "id": "s3BDNVOOkeft"
      },
      "execution_count": 2,
      "outputs": []
    },
    {
      "cell_type": "code",
      "source": [
        "class FeedForwardBlock(nn.Module):\n",
        "    def __init__(self, d_model, d_ff):\n",
        "        super().__init__()\n",
        "\n",
        "        self.norm = nn.Softmax(dim = 0)\n",
        "        self.Dropout = nn.Dropout(0.1)\n",
        "\n",
        "        self.block = nn.Sequential( )\n",
        "        self.block.add_module(f'linear_1',  nn.Linear(d_model, d_ff))\n",
        "        self.block.add_module(f'ReLU', nn.ReLU())\n",
        "        self.block.add_module(f'linear_2', nn.Linear(d_ff, d_model))\n",
        "\n",
        "\n",
        "    def forward(self, x):\n",
        "\n",
        "      out = self.norm(self.Dropout(self.block(x)) + x)\n",
        "\n",
        "      return out"
      ],
      "metadata": {
        "id": "aadstMtxktWG"
      },
      "execution_count": 3,
      "outputs": []
    },
    {
      "cell_type": "code",
      "source": [
        "class Encoder(nn.Module):\n",
        "  def __init__(self, number_of_layers: int):\n",
        "    super().__init__()\n",
        "\n",
        "    self.number_of_layers = number_of_layers\n",
        "    self.EncoderBlock = nn.Sequential()\n",
        "\n",
        "    for i in range (self.number_of_layers):\n",
        "      self.EncoderBlock.add_module(f'attention{i}',EncodersSelfAttention(10,2,10))\n",
        "      self.EncoderBlock.add_module(f'ffnn{i}',FeedForwardBlock(10,100))\n",
        "\n",
        "  def forward (self,x):\n",
        "\n",
        "    out = self.EncoderBlock(x)\n",
        "\n",
        "    return out\n"
      ],
      "metadata": {
        "id": "DhGENx4fk8qe"
      },
      "execution_count": 4,
      "outputs": []
    },
    {
      "cell_type": "code",
      "source": [
        "x = torch.randn(10,10)\n",
        "model = Encoder(4)\n",
        "\n",
        "print(model)\n",
        "\n",
        "#for i in model.parameters():\n",
        "#  print(i)\n",
        "#training->loss and optimizer:\n",
        "\n",
        "target = x\n",
        "learning_rate = 0.001\n",
        "num_epoch = 4\n",
        "\n",
        "loss = nn.CrossEntropyLoss()\n",
        "optimizer = torch.optim.Adam(model.parameters(),lr = learning_rate)\n",
        "\n",
        "#training loop:\n",
        "\n",
        "torch.autograd.set_detect_anomaly(True)\n",
        "\n",
        "for epoch in range(num_epoch):\n",
        "\n",
        "  #forward pass\n",
        "\n",
        "  out = model(x)\n",
        "  lossval = loss(out,target)\n",
        "\n",
        "  #backward pass\n",
        "\n",
        "  optimizer.zero_grad()\n",
        "  print(f'epoch: {epoch}')\n",
        "  lossval.backward(retain_graph=True)\n",
        "  optimizer.step()\n"
      ],
      "metadata": {
        "colab": {
          "base_uri": "https://localhost:8080/"
        },
        "id": "Mrl52LLCmY2n",
        "outputId": "71d72c0d-ac29-412d-f3d4-5398e3b0c354"
      },
      "execution_count": 5,
      "outputs": [
        {
          "output_type": "stream",
          "name": "stdout",
          "text": [
            "Encoder(\n",
            "  (EncoderBlock): Sequential(\n",
            "    (attention0): EncodersSelfAttention(\n",
            "      (get_QKV): Linear(in_features=10, out_features=10, bias=False)\n",
            "      (get_multihead): Linear(in_features=10, out_features=5, bias=False)\n",
            "      (norm): Softmax(dim=0)\n",
            "      (Dropout): Dropout(p=0.1, inplace=False)\n",
            "    )\n",
            "    (ffnn0): FeedForwardBlock(\n",
            "      (norm): Softmax(dim=0)\n",
            "      (Dropout): Dropout(p=0.1, inplace=False)\n",
            "      (block): Sequential(\n",
            "        (linear_1): Linear(in_features=10, out_features=100, bias=True)\n",
            "        (ReLU): ReLU()\n",
            "        (linear_2): Linear(in_features=100, out_features=10, bias=True)\n",
            "      )\n",
            "    )\n",
            "    (attention1): EncodersSelfAttention(\n",
            "      (get_QKV): Linear(in_features=10, out_features=10, bias=False)\n",
            "      (get_multihead): Linear(in_features=10, out_features=5, bias=False)\n",
            "      (norm): Softmax(dim=0)\n",
            "      (Dropout): Dropout(p=0.1, inplace=False)\n",
            "    )\n",
            "    (ffnn1): FeedForwardBlock(\n",
            "      (norm): Softmax(dim=0)\n",
            "      (Dropout): Dropout(p=0.1, inplace=False)\n",
            "      (block): Sequential(\n",
            "        (linear_1): Linear(in_features=10, out_features=100, bias=True)\n",
            "        (ReLU): ReLU()\n",
            "        (linear_2): Linear(in_features=100, out_features=10, bias=True)\n",
            "      )\n",
            "    )\n",
            "    (attention2): EncodersSelfAttention(\n",
            "      (get_QKV): Linear(in_features=10, out_features=10, bias=False)\n",
            "      (get_multihead): Linear(in_features=10, out_features=5, bias=False)\n",
            "      (norm): Softmax(dim=0)\n",
            "      (Dropout): Dropout(p=0.1, inplace=False)\n",
            "    )\n",
            "    (ffnn2): FeedForwardBlock(\n",
            "      (norm): Softmax(dim=0)\n",
            "      (Dropout): Dropout(p=0.1, inplace=False)\n",
            "      (block): Sequential(\n",
            "        (linear_1): Linear(in_features=10, out_features=100, bias=True)\n",
            "        (ReLU): ReLU()\n",
            "        (linear_2): Linear(in_features=100, out_features=10, bias=True)\n",
            "      )\n",
            "    )\n",
            "    (attention3): EncodersSelfAttention(\n",
            "      (get_QKV): Linear(in_features=10, out_features=10, bias=False)\n",
            "      (get_multihead): Linear(in_features=10, out_features=5, bias=False)\n",
            "      (norm): Softmax(dim=0)\n",
            "      (Dropout): Dropout(p=0.1, inplace=False)\n",
            "    )\n",
            "    (ffnn3): FeedForwardBlock(\n",
            "      (norm): Softmax(dim=0)\n",
            "      (Dropout): Dropout(p=0.1, inplace=False)\n",
            "      (block): Sequential(\n",
            "        (linear_1): Linear(in_features=10, out_features=100, bias=True)\n",
            "        (ReLU): ReLU()\n",
            "        (linear_2): Linear(in_features=100, out_features=10, bias=True)\n",
            "      )\n",
            "    )\n",
            "  )\n",
            ")\n",
            "epoch: 0\n",
            "epoch: 1\n",
            "epoch: 2\n",
            "epoch: 3\n"
          ]
        }
      ]
    },
    {
      "cell_type": "markdown",
      "source": [
        "# Decoder\n",
        "\n",
        "After we've finished the Encoderblock we concentrate on the decoder. First we introduce the two new versions of Attention, after that we follow the same way as we did in the case of the Encoder."
      ],
      "metadata": {
        "id": "-K117OTIMHue"
      }
    },
    {
      "cell_type": "code",
      "source": [
        "class DecodersMaskedAttention(nn.Module):                                                                     # This is exactly the same as the EncodersSelfAttention's code. Tha only difference is that we apply masking.\n",
        "  def __init__(self, d_model,number_of_heads, number_of_tokens):\n",
        "    super(DecodersMaskedAttention,self).__init__()\n",
        "\n",
        "    self.d_model = d_model\n",
        "    self.number_of_heads = number_of_heads\n",
        "    self.number_of_tokens = number_of_tokens\n",
        "\n",
        "\n",
        "    self.get_QKV = nn.Linear(self.d_model,self.d_model,bias = False)\n",
        "    self.get_multihead = nn.Linear(self.d_model,self.d_model//self.number_of_heads,bias = False)\n",
        "    self.norm = nn.Softmax(dim=0)\n",
        "    self.Dropout = nn.Dropout(0.1)                                                                              # We could define a parameter for the rate of dropout, for now I use the constant mentioned in the article.\n",
        "\n",
        "  def forward (self,x):\n",
        "    Q = self.get_QKV(x)                                                                                         # They have to be exactly the same linear transformations in one attention head\n",
        "    K = self.get_QKV(x)\n",
        "    V = self.get_QKV(x)\n",
        "\n",
        "    QW = torch.zeros(self.number_of_heads,self.number_of_tokens,self.d_model//self.number_of_heads)             #integer division, 3D tensor.\n",
        "    KW = torch.zeros(self.number_of_heads,self.number_of_tokens,self.d_model//self.number_of_heads)\n",
        "    VW = torch.zeros(self.number_of_heads,self.number_of_tokens,self.d_model//self.number_of_heads)\n",
        "\n",
        "    for i in range(self.number_of_heads):\n",
        "        QW[i,:] = self.get_multihead(Q)                                                                         # Applyin number of heads transformations and aligning the results by the first coordinate.\n",
        "        KW[i,:] = self.get_multihead(K)\n",
        "        VW[i,:] = self.get_multihead(V)\n",
        "\n",
        "    attention = torch.zeros(self.number_of_heads,self.number_of_tokens,self.d_model//self.number_of_heads)      #initializing an attention matrix\n",
        "\n",
        "    mask = torch.einsum('ji->ij',torch.triu(torch.ones(self.number_of_tokens,self.number_of_tokens)))                               # Transposing an upper triangular matrix.\n",
        "\n",
        "    for i in range(self.number_of_heads):\n",
        "        attention[i] = torch.einsum('ik,kj->ij',torch.einsum('ik,jk->ij',QW[i],KW[i]).masked_fill(mask == 0,float(\"0.00000000000001\")),VW[i])               # -infty!!!\n",
        "\n",
        "\n",
        "    concat_output = attention[0]\n",
        "\n",
        "    for i in range(1,self.number_of_heads):\n",
        "      concat_output = torch.cat((concat_output,attention[i]),1)\n",
        "\n",
        "\n",
        "    return self.norm(x + self.Dropout(concat_output))                                                           # We apply residual connections here, I hope it won't mess up our gradient calculation.\n"
      ],
      "metadata": {
        "id": "NbycVNA0jW8x"
      },
      "execution_count": 6,
      "outputs": []
    },
    {
      "cell_type": "code",
      "source": [
        "print(DecodersMaskedAttention(10,2,10))"
      ],
      "metadata": {
        "colab": {
          "base_uri": "https://localhost:8080/"
        },
        "id": "EVGpa4OaqIP5",
        "outputId": "808c6453-c8af-41f5-870a-c4e27c5d14af"
      },
      "execution_count": 7,
      "outputs": [
        {
          "output_type": "stream",
          "name": "stdout",
          "text": [
            "DecodersMaskedAttention(\n",
            "  (get_QKV): Linear(in_features=10, out_features=10, bias=False)\n",
            "  (get_multihead): Linear(in_features=10, out_features=5, bias=False)\n",
            "  (norm): Softmax(dim=0)\n",
            "  (Dropout): Dropout(p=0.1, inplace=False)\n",
            ")\n"
          ]
        }
      ]
    },
    {
      "cell_type": "code",
      "source": [
        "class CrossAttention(nn.Module):\n",
        "  def __init__(self, EncodersOut, d_model,number_of_heads, number_of_tokens) -> None:\n",
        "    super(CrossAttention,self).__init__()\n",
        "\n",
        "    self.EncodersOut = EncodersOut\n",
        "    self.d_model = d_model\n",
        "    self.number_of_heads = number_of_heads\n",
        "    self.number_of_tokens = number_of_tokens\n",
        "\n",
        "    self.get_multihead = nn.Linear(self.d_model,self.d_model//self.number_of_heads,bias = False)\n",
        "    self.norm = nn.Softmax(dim=0)\n",
        "    self.Dropout = nn.Dropout(0.1)\n",
        "\n",
        "  def forward (self,Q):                                                                         # encoders's output should be an input here and\n",
        "\n",
        "    QW = torch.zeros(self.number_of_heads,self.number_of_tokens,self.d_model//self.number_of_heads)\n",
        "    KW = torch.zeros(self.number_of_heads,self.number_of_tokens,self.d_model//self.number_of_heads)\n",
        "    VW = torch.zeros(self.number_of_heads,self.number_of_tokens,self.d_model//self.number_of_heads)\n",
        "\n",
        "    for i in range(self.number_of_heads):\n",
        "        QW[i,:] = self.get_multihead(Q)\n",
        "        KW[i,:] = self.get_multihead(self.EncodersOut)\n",
        "        VW[i,:] = self.get_multihead(self.EncodersOut)\n",
        "\n",
        "    attention = torch.zeros(self.number_of_heads,self.number_of_tokens,self.d_model//self.number_of_heads)\n",
        "\n",
        "    for i in range(self.number_of_heads):\n",
        "        attention[i] = torch.einsum('ik,kj->ij',torch.einsum('ik,jk->ij',QW[i],KW[i]),KW[i])\n",
        "\n",
        "    concat_output = attention[0]\n",
        "\n",
        "    for i in range(1,self.number_of_heads):\n",
        "      concat_output = torch.cat((concat_output,attention[i]),1)\n",
        "\n",
        "\n",
        "    return self.norm(Q + self.Dropout(concat_output))"
      ],
      "metadata": {
        "id": "MrDfn26SMPlH"
      },
      "execution_count": 8,
      "outputs": []
    },
    {
      "cell_type": "code",
      "source": [
        "EncodersOut = torch.ones(10,10)\n",
        "Att = CrossAttention(EncodersOut,10,2,10)\n",
        "Q= torch.ones(10,10)\n",
        "Ve = Att(Q)\n",
        "print(Ve)"
      ],
      "metadata": {
        "colab": {
          "base_uri": "https://localhost:8080/"
        },
        "id": "NXsy4_CRiOMj",
        "outputId": "15e7fe0f-8ba6-40d0-cb3e-a137bb347828"
      },
      "execution_count": 9,
      "outputs": [
        {
          "output_type": "stream",
          "name": "stdout",
          "text": [
            "tensor([[1.6461e-15, 2.5505e-22, 3.3333e-01, 1.0000e-01, 1.0000e-01, 1.1111e-01,\n",
            "         1.2500e-01, 1.0000e-01, 6.5486e-06, 1.0000e-01],\n",
            "        [1.4286e-01, 1.2500e-01, 3.1536e-10, 1.0000e-01, 1.0000e-01, 1.1111e-01,\n",
            "         1.2500e-01, 1.0000e-01, 4.9997e-01, 1.0000e-01],\n",
            "        [1.4286e-01, 1.2500e-01, 3.1536e-10, 1.0000e-01, 1.0000e-01, 1.2803e-15,\n",
            "         1.2500e-01, 1.0000e-01, 6.5486e-06, 1.0000e-01],\n",
            "        [1.4286e-01, 1.2500e-01, 3.3333e-01, 1.0000e-01, 1.0000e-01, 1.1111e-01,\n",
            "         1.2500e-01, 1.0000e-01, 6.5486e-06, 1.0000e-01],\n",
            "        [1.4286e-01, 2.5505e-22, 3.1536e-10, 1.0000e-01, 1.0000e-01, 1.1111e-01,\n",
            "         1.2500e-01, 1.0000e-01, 6.5486e-06, 1.0000e-01],\n",
            "        [1.4286e-01, 1.2500e-01, 3.1536e-10, 1.0000e-01, 1.0000e-01, 1.1111e-01,\n",
            "         2.5505e-22, 1.0000e-01, 6.5486e-06, 1.0000e-01],\n",
            "        [1.4286e-01, 1.2500e-01, 3.3333e-01, 1.0000e-01, 1.0000e-01, 1.1111e-01,\n",
            "         1.2500e-01, 1.0000e-01, 6.5486e-06, 1.0000e-01],\n",
            "        [1.4286e-01, 1.2500e-01, 3.1536e-10, 1.0000e-01, 1.0000e-01, 1.1111e-01,\n",
            "         2.5505e-22, 1.0000e-01, 6.5486e-06, 1.0000e-01],\n",
            "        [1.6461e-15, 1.2500e-01, 3.1536e-10, 1.0000e-01, 1.0000e-01, 1.1111e-01,\n",
            "         1.2500e-01, 1.0000e-01, 6.5486e-06, 1.0000e-01],\n",
            "        [1.6461e-15, 1.2500e-01, 3.1536e-10, 1.0000e-01, 1.0000e-01, 1.1111e-01,\n",
            "         1.2500e-01, 1.0000e-01, 4.9997e-01, 1.0000e-01]],\n",
            "       grad_fn=<SoftmaxBackward0>)\n"
          ]
        }
      ]
    },
    {
      "cell_type": "code",
      "source": [
        "class Decoder(nn.Module):\n",
        "  def __init__(self,EncodersOut, number_of_layers: int):\n",
        "    super(). __init__()\n",
        "\n",
        "    self.EncodersOut = EncodersOut\n",
        "    self.number_of_layers = number_of_layers\n",
        "    self.DecoderBlock = nn.Sequential()\n",
        "\n",
        "    for i in range (self.number_of_layers):\n",
        "      self.DecoderBlock.add_module(f'MaskedAttention{i}',DecodersMaskedAttention(10,2,10))\n",
        "      self.DecoderBlock.add_module(f'CrossAttention{i}',CrossAttention (self.EncodersOut,10,2,10))\n",
        "      self.DecoderBlock.add_module(f'FeedForward{i}',FeedForwardBlock(10,100))\n",
        "\n",
        "  def forward (self,x):\n",
        "\n",
        "    out = self.DecoderBlock(x)\n",
        "\n",
        "    return out"
      ],
      "metadata": {
        "id": "l91qv078io-1"
      },
      "execution_count": 10,
      "outputs": []
    },
    {
      "cell_type": "code",
      "source": [
        "x = torch.randn(10,10)\n",
        "y = torch.randn(10,10)\n",
        "encoder = Encoder(4)\n",
        "encodersout = torch.randn(10,10)\n",
        "decoder = Decoder(encodersout,4)\n",
        "outputprobs = decoder(y)\n",
        "#for i in decoder.parameters():\n",
        " # print(i)\n",
        "target = x\n",
        "learning_rate = 0.001\n",
        "num_epoch = 4\n",
        "\n",
        "loss = nn.CrossEntropyLoss()\n",
        "optimizer = torch.optim.Adam(model.parameters(),lr = learning_rate)\n",
        "\n",
        "#training loop:\n",
        "\n",
        "torch.autograd.set_detect_anomaly(True)\n",
        "\n",
        "for epoch in range(num_epoch):\n",
        "\n",
        "  #forward pass\n",
        "\n",
        "  out = decoder(x)\n",
        "  lossval = loss(out,target)\n",
        "\n",
        "  #backward pass\n",
        "\n",
        "  optimizer.zero_grad()\n",
        "  print(epoch)\n",
        "  lossval.backward(retain_graph=True)\n",
        "  optimizer.step()\n"
      ],
      "metadata": {
        "colab": {
          "base_uri": "https://localhost:8080/"
        },
        "id": "BgQo05Zo8gDl",
        "outputId": "31da8c1b-43b3-4c4d-f0ba-ad2c418361af"
      },
      "execution_count": 11,
      "outputs": [
        {
          "output_type": "stream",
          "name": "stdout",
          "text": [
            "0\n",
            "1\n",
            "2\n",
            "3\n"
          ]
        }
      ]
    },
    {
      "cell_type": "code",
      "source": [],
      "metadata": {
        "id": "jllj_lW19jcA"
      },
      "execution_count": null,
      "outputs": []
    }
  ]
}
